{
 "cells": [
  {
   "cell_type": "code",
   "execution_count": 1,
   "metadata": {},
   "outputs": [
    {
     "name": "stdout",
     "output_type": "stream",
     "text": [
      "enter the number2 4 5 8\n",
      " the greatest of 4 number is: 8\n"
     ]
    }
   ],
   "source": [
    "# 1:biggest of 4 number\n",
    "\n",
    "a,b,c,d=input(\"enter the number\").split()\n",
    "if(a>b)and(a>c)and(a>d):\n",
    "    print(\"the greatest of 4 number is:\",a)\n",
    "elif(b>c)and(b>d):\n",
    "    print(\"the greatest of 4 number is:\",b)\n",
    "elif(c>a)and(c>d):\n",
    "    print(\"the greatest of 4 number is:\",c)\n",
    "elif(d>a):\n",
    "    print(\" the greatest of 4 number is:\",d)\n",
    "else:\n",
    "    print(\"no greatest number is found\")"
   ]
  },
  {
   "cell_type": "code",
   "execution_count": 7,
   "metadata": {},
   "outputs": [
    {
     "name": "stdout",
     "output_type": "stream",
     "text": [
      "enter the number5\n",
      "5 is a prime number\n"
     ]
    }
   ],
   "source": [
    "# 2:find number prime or not\n",
    "n=int(input(\"enter the number\"))\n",
    "if n>1:   # prime number is always greater than 1\n",
    "    for i in range(2, n):\n",
    "        if (n % i) == 0:\n",
    "            print(n, \"is not a prime number\")\n",
    "    else:\n",
    "        print(n, \"is a prime number\")\n",
    "else:\n",
    "    print( \"not a prime number\")"
   ]
  },
  {
   "cell_type": "code",
   "execution_count": 10,
   "metadata": {},
   "outputs": [
    {
     "name": "stdout",
     "output_type": "stream",
     "text": [
      "Enter number:12345\n",
      "The number isn't a palindrome!\n"
     ]
    }
   ],
   "source": [
    "# 3:find number palindrome or not\n",
    "n=int(input(\"Enter number:\"))\n",
    "temp=n  #The value of the integer is then stored in another temporary variable.\n",
    "rev=0\n",
    "while(n>0):\n",
    "    dig=n%10\n",
    "    rev=rev*10+dig\n",
    "    n=n//10\n",
    "if(temp==rev):\n",
    "    print(\"The number is a palindrome!\")\n",
    "else:\n",
    "    print(\"The number isn't a palindrome!\")\n",
    "\n"
   ]
  },
  {
   "cell_type": "code",
   "execution_count": 2,
   "metadata": {},
   "outputs": [
    {
     "name": "stdout",
     "output_type": "stream",
     "text": [
      "enter the number:7\n",
      "7 x 1 = 7\n",
      "7 x 2 = 14\n",
      "7 x 3 = 21\n",
      "7 x 4 = 28\n",
      "7 x 5 = 35\n",
      "7 x 6 = 42\n",
      "7 x 7 = 49\n",
      "7 x 8 = 56\n",
      "7 x 9 = 63\n",
      "7 x 10 = 70\n"
     ]
    }
   ],
   "source": [
    "# 4:print multiplication table of given number\n",
    "e=int(input(\"enter the number:\"))\n",
    "for i in range(1,11):\n",
    "    print(e,'x',i,'=',e*i)"
   ]
  },
  {
   "cell_type": "code",
   "execution_count": 2,
   "metadata": {},
   "outputs": [
    {
     "name": "stdout",
     "output_type": "stream",
     "text": [
      "7\n",
      "77\n",
      "11.0\n"
     ]
    }
   ],
   "source": [
    "# 5:find the mean of given number using list\n",
    "mean_list=[1,2,3,4,5,56,6]\n",
    "a=len(mean_list)\n",
    "print(a)\n",
    "b=sum(mean_list)\n",
    "print(b)\n",
    "mean=b/a\n",
    "print(mean)"
   ]
  },
  {
   "cell_type": "code",
   "execution_count": 44,
   "metadata": {},
   "outputs": [
    {
     "name": "stdout",
     "output_type": "stream",
     "text": [
      "the number is exist\n",
      "print the number of 4 and it's place:\n",
      "[3 4 7]\n"
     ]
    }
   ],
   "source": [
    "# 6:exist or not.check it's place\n",
    "import numpy as np\n",
    "v=np.array([1,2,3,4,4,5,9,4])\n",
    "if(4 in v):\n",
    "    print(\"the number is exist\")\n",
    "else:\n",
    "    print(\"not exist\")\n",
    "result=np.where(v==4)    \n",
    "print(\"print the number of 4 and it's place:\",result[0],sep='\\n')   "
   ]
  },
  {
   "cell_type": "code",
   "execution_count": 3,
   "metadata": {},
   "outputs": [
    {
     "name": "stdout",
     "output_type": "stream",
     "text": [
      "the element sum of n number: 55\n"
     ]
    }
   ],
   "source": [
    "# 7:return sum of n number from function using list\n",
    "a=[1,2,3,4,5,6,7,8,9,10]\n",
    "def sum():\n",
    "    su=0\n",
    "    for i in a:\n",
    "        su=su+i\n",
    "    print(\"the element sum of n number:\",su)\n",
    "sum()    "
   ]
  },
  {
   "cell_type": "code",
   "execution_count": 22,
   "metadata": {},
   "outputs": [
    {
     "name": "stdout",
     "output_type": "stream",
     "text": [
      "{1: 'shruu', 2: 67, 3: 89, 4: 'keer', 5: 'supriya'}\n",
      "{1: 'shruu', 2: 67, 3: 'yellow', 4: 'keer', 5: 'supriya'}\n",
      "shruu\n",
      "dict_keys([1, 2, 3, 4, 5])\n",
      "{1: 'shruu', 3: 'yellow', 4: 'keer', 5: 'supriya'}\n",
      "{1: 'shruu', 3: 'yellow', 4: 'keer'}\n",
      "{1: 'shruu', 3: 'yellow', 4: 'keer'}\n",
      "{}\n"
     ]
    }
   ],
   "source": [
    "# 8:munipulate student detail using dict and list\n",
    "\n",
    "a={1:'shruu',2:67,3:89,4:'keer',5:'supriya'}\n",
    "print(a)\n",
    "\n",
    "a.update({3:'yellow'})#updating the dict with specified key value\n",
    "print(a)\n",
    "\n",
    "print(a.get(1))# acessing or return the value of the key\n",
    "\n",
    "print(a.keys())# return the list of keys\n",
    "\n",
    "a.pop(2)# remove the value from specified key\n",
    "print(a)\n",
    "\n",
    "a.popitem()# remove the last key-value pair\n",
    "print(a)\n",
    "\n",
    "a.values()# return all values\n",
    "print(a)\n",
    "\n",
    "a.clear()\n",
    "print(a)\n",
    "\n",
    "\n",
    "\n",
    "\n",
    "\n"
   ]
  },
  {
   "cell_type": "code",
   "execution_count": 32,
   "metadata": {},
   "outputs": [
    {
     "name": "stdout",
     "output_type": "stream",
     "text": [
      "[1, 2, 3, 4, 5, 'qwqewqe', 'dxgcbcbcbcb']\n",
      "[1, 2, 3, 4, 5, 'qwqewqe', 'dxgcbcbcbcb', 'shru']\n",
      "[1, 2, 3, 4, 5, 'qwqewqe', 'dxgcbcbcbcb', 'shru', 1, 2, 3, 4, 'dhan', 'kevin']\n",
      "[1, 2, 3, 4, 5, 'qwqewqe', 'dxgcbcbcbcb', 'shru', 1, 2, 3, 4, 'dhan', 'kevin', 23, 20]\n",
      "[1, 30, 2, 3, 4, 5, 'qwqewqe', 'dxgcbcbcbcb', 'shru', 1, 2, 3, 4, 'dhan', 'kevin']\n",
      "[1, 30, 2, 3, 4, 5, 'dxgcbcbcbcb', 'shru', 1, 2, 3, 4, 'dhan', 'kevin']\n",
      "[1, 30, 2, 3, 4, 5, 'dxgcbcbcbcb', 1, 2, 3, 4, 'dhan', 'kevin']\n",
      "[]\n"
     ]
    }
   ],
   "source": [
    "b=[1,2,3,4,5,'qwqewqe','dxgcbcbcbcb']# declaring list\n",
    "print(b)\n",
    "\n",
    "b.append('shru')#adding one element\n",
    "print(b)\n",
    "\n",
    "b.extend([1,2,3,4,'dhan','kevin'])#adding more than one element\n",
    "print(b)\n",
    "\n",
    "print(b+[23,20])#combine two list\n",
    "\n",
    "b.insert(1,30)# insert an item at the defined index\n",
    "print(b)\n",
    "\n",
    "b.remove('qwqewqe')#removing the element\n",
    "print(b)\n",
    "\n",
    "b.pop(7)#removing value by using index values  \n",
    "print(b)\n",
    "\n",
    "b.clear()# remove the list\n",
    "print(b)"
   ]
  },
  {
   "cell_type": "code",
   "execution_count": 4,
   "metadata": {},
   "outputs": [
    {
     "name": "stdout",
     "output_type": "stream",
     "text": [
      "enter the name:shruu\n",
      "enter the number:48\n",
      "shruu\n",
      "48\n"
     ]
    }
   ],
   "source": [
    "# class and object\n",
    "class student:\n",
    "    num=0\n",
    "    name=\" \"\n",
    "    def getdata(self):\n",
    "        self.name=input(\"enter the name:\")\n",
    "        self.num=input(\"enter the number:\")\n",
    "    def printdata(self):\n",
    "        print(self.name)\n",
    "        print(self.num)\n",
    "s1=student()\n",
    "s2=student()\n",
    "s1.getdata()\n",
    "s1.printdata()"
   ]
  },
  {
   "cell_type": "code",
   "execution_count": 7,
   "metadata": {},
   "outputs": [
    {
     "name": "stdout",
     "output_type": "stream",
     "text": [
      "enter the number:3\n",
      "enter the name:kevin\n",
      "enter the id:47\n",
      "enter age:21\n",
      "enter the name:shruu\n",
      "enter the id:48\n",
      "enter age:22\n",
      "enter the name:keer\n",
      "enter the id:51\n",
      "enter age:20\n",
      "details of student:\n",
      "kevin4721\n",
      "shruu4822\n",
      "keer5120\n",
      "\n"
     ]
    }
   ],
   "source": [
    "# read and write student details\n",
    "n=int(input(\"enter the number:\"))\n",
    "file=open(\"student.txt\",\"w\")\n",
    "for i in range(n):\n",
    "    name=input(\"enter the name:\")\n",
    "    id=input(\"enter the id:\")\n",
    "    age=input(\"enter age:\")\n",
    "    file.write(name)\n",
    "    file.write(id)\n",
    "    file.write(age)\n",
    "    file.write(\"\\n\")\n",
    "file.close()\n",
    "print(\"details of student:\")\n",
    "file=open(\"student.txt\",\"r\")\n",
    "print(file.read())\n",
    "file.close()\n",
    "    "
   ]
  },
  {
   "cell_type": "code",
   "execution_count": null,
   "metadata": {},
   "outputs": [],
   "source": []
  },
  {
   "cell_type": "code",
   "execution_count": null,
   "metadata": {},
   "outputs": [],
   "source": []
  },
  {
   "cell_type": "code",
   "execution_count": null,
   "metadata": {},
   "outputs": [],
   "source": []
  },
  {
   "cell_type": "code",
   "execution_count": null,
   "metadata": {},
   "outputs": [],
   "source": []
  },
  {
   "cell_type": "code",
   "execution_count": null,
   "metadata": {},
   "outputs": [],
   "source": []
  }
 ],
 "metadata": {
  "kernelspec": {
   "display_name": "Python 3",
   "language": "python",
   "name": "python3"
  },
  "language_info": {
   "codemirror_mode": {
    "name": "ipython",
    "version": 3
   },
   "file_extension": ".py",
   "mimetype": "text/x-python",
   "name": "python",
   "nbconvert_exporter": "python",
   "pygments_lexer": "ipython3",
   "version": "3.8.5"
  }
 },
 "nbformat": 4,
 "nbformat_minor": 4
}
